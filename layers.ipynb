{
 "cells": [
  {
   "cell_type": "code",
   "execution_count": 1,
   "id": "2eee8c49-0ec7-4f19-a270-71db6b8a72cd",
   "metadata": {
    "tags": []
   },
   "outputs": [],
   "source": [
    "import os\n",
    "os.environ['TF_CPP_MIN_LOG_LEVEL'] = '3'\n",
    "\n",
    "import tensorflow as tf\n",
    "from tensorflow.keras import layers"
   ]
  },
  {
   "cell_type": "markdown",
   "id": "c8c68e09-22b5-4c9f-ab62-8924776189e8",
   "metadata": {},
   "source": [
    "https://www.tensorflow.org/api_docs/python/tf/keras/layers/Dense"
   ]
  },
  {
   "cell_type": "code",
   "execution_count": 2,
   "id": "0839b410-c3c2-4c0f-aea0-0b8376934d05",
   "metadata": {
    "tags": []
   },
   "outputs": [
    {
     "name": "stdout",
     "output_type": "stream",
     "text": [
      "input_len: 5\n",
      "batch_size: 2\n",
      "weights.shape: (5, 1)\n",
      "bias.shape: (1,)\n",
      "Inputs (x): [[1. 2. 3. 4. 5.]\n",
      " [1. 2. 3. 4. 5.]]\n",
      "Weights (w):\n",
      " [[0.5]\n",
      " [0.5]\n",
      " [0.5]\n",
      " [0.5]\n",
      " [0.5]]\n",
      "Bias (b):\n",
      " [1.]\n",
      "Output shape:\n",
      " (2, 1)\n",
      "Output (y):\n",
      " [[8.5]\n",
      " [8.5]]\n",
      "Build config: None\n"
     ]
    }
   ],
   "source": [
    "# import tensorflow as tf\n",
    "import numpy as np\n",
    "\n",
    "input = np.array([\n",
    "  [1, 2, 3, 4, 5],\n",
    "  [1, 2, 3, 4, 5]\n",
    "])\n",
    "input_len = len(input[0])\n",
    "batch_size = len(input)\n",
    "print(\"input_len:\", input_len)\n",
    "print(\"batch_size:\", batch_size)\n",
    "x = tf.constant(input, dtype=tf.float32)\n",
    "\n",
    "\n",
    "units=1\n",
    "dense_layer = tf.keras.layers.Dense(units=units, activation='linear', use_bias=True, name='my_dense_layer')\n",
    "\n",
    "\n",
    "# Manually set the weights and bias for the layer\n",
    "# There will be one weight for each input, and one bias for the neuron\n",
    "# Weights: w1=0.5, w2=1.5\n",
    "# Bias: b=1.0\n",
    "\n",
    "# weights must have shape (input_len, units)\n",
    "weights = np.array([[0.5], [0.5], [0.5], [0.5], [0.5]])\n",
    "#weights = np.array([[0.5, 0.5, 0.5], [0.5, 0.5, 0.5], [0.5,0.5, 0.5], [0.5,0.5, 0.5], [0.5,0.5, 0.5]])\n",
    "print(\"weights.shape:\", weights.shape)\n",
    "\n",
    "# bias must have shape (, units)\n",
    "# bias = np.array([1.0, 1.0, 1.0])\n",
    "bias = np.array([1.0])\n",
    "print(\"bias.shape:\", bias.shape)\n",
    "\n",
    "dense_layer.build(input_shape=(1, input_len)) # not sure what the 1 means ..\n",
    "dense_layer.set_weights([weights, bias])\n",
    "\n",
    "# Pass the input through the dense layer\n",
    "y = dense_layer(x)\n",
    "\n",
    "print(\"Inputs (x):\", x.numpy())\n",
    "print(\"Weights (w):\\n\", dense_layer.get_weights()[0]) # [0]) # [0].numpy().T)\n",
    "print(\"Bias (b):\\n\", dense_layer.get_weights()[1])\n",
    "\n",
    "# output will have shape (batch_size, units)\n",
    "print(\"Output shape:\\n\", y.shape)\n",
    "print(\"Output (y):\\n\", y.numpy())\n",
    "print(\"Build config:\", dense_layer.get_build_config())\n"
   ]
  },
  {
   "cell_type": "code",
   "execution_count": 3,
   "id": "c2a9df7f-8aa5-4077-9599-c8422af11a7e",
   "metadata": {
    "tags": []
   },
   "outputs": [
    {
     "data": {
      "text/plain": [
       "array([[8.5],\n",
       "       [8.5]])"
      ]
     },
     "execution_count": 3,
     "metadata": {},
     "output_type": "execute_result"
    }
   ],
   "source": [
    "input @ weights + bias"
   ]
  },
  {
   "cell_type": "code",
   "execution_count": 23,
   "id": "aa61d5d0-2584-4362-b654-d226787ffb44",
   "metadata": {
    "tags": []
   },
   "outputs": [
    {
     "name": "stdout",
     "output_type": "stream",
     "text": [
      "input.shape: (2, 3, 5)\n",
      "embed_dim: 5\n",
      "input_len: 3\n",
      "batch_size: 2\n"
     ]
    }
   ],
   "source": [
    "input = np.array([\n",
    "  [\n",
    "    [1, 2, 3, 4, 5],\n",
    "    [1, 2, 3, 4, 5],\n",
    "    [1, 2, 3, 4, 5],\n",
    "  ],\n",
    "  [\n",
    "    [1, 2, 3, 4, 5],\n",
    "    [1, 2, 3, 4, 5],\n",
    "    [1, 2, 3, 4, 5],\n",
    "  ],\n",
    "])\n",
    "print(\"input.shape:\", input.shape)\n",
    "embed_dim = len(input[0][0])\n",
    "input_len = len(input[0])\n",
    "batch_size = len(input)\n",
    "print(\"embed_dim:\", embed_dim)\n",
    "print(\"input_len:\", input_len)\n",
    "print(\"batch_size:\", batch_size)\n",
    "x = tf.constant(input, dtype=tf.float32)\n",
    "\n",
    "\n",
    "units=3\n",
    "dense_layer = tf.keras.layers.Dense(units=units, activation='linear', use_bias=False, name='my_dense_layer')\n",
    "\n",
    "# weights must have shape (input_len, units)\n",
    "# weights = np.array([[0.5, 0.5, 0.5], [0.5, 0.5, 0.5], [0.5,0.5, 0.5], [0.5,0.5, 0.5], [0.5,0.5, 0.5]])\n",
    "weights = np.array([[0.5, 0.5, 0.5, 0.5, 0.5 ]])\n",
    "# bias must have shape (, units)\n",
    "# bias = np.array([1.0, 1.0, 1.0, 1.0, 1.0])\n",
    "# bias = np.array([1.0])\n",
    "# print(\"bias.shape:\", bias.shape)\n",
    "\n",
    "# dense_layer.build(input_shape=(1, input_len)) # not sure what the 1 means ..\n",
    "# dense_layer.set_weights(weights)\n",
    "y = dense_layer(x)"
   ]
  },
  {
   "cell_type": "code",
   "execution_count": 24,
   "id": "819fadea-b0aa-4a45-b25f-809bfaecdec0",
   "metadata": {
    "tags": []
   },
   "outputs": [
    {
     "data": {
      "text/plain": [
       "[array([[-0.30218875,  0.8243012 , -0.6245928 ],\n",
       "        [-0.15837228, -0.6514756 ,  0.39019316],\n",
       "        [-0.73878527, -0.75800633, -0.09749162],\n",
       "        [-0.69868773,  0.19652003, -0.4667101 ],\n",
       "        [ 0.4655016 ,  0.6281473 ,  0.7307876 ]], dtype=float32)]"
      ]
     },
     "execution_count": 24,
     "metadata": {},
     "output_type": "execute_result"
    }
   ],
   "source": [
    "dense_layer.get_weights()"
   ]
  },
  {
   "cell_type": "code",
   "execution_count": 25,
   "id": "48d3725b-70e2-4404-85c4-5917575e6f0c",
   "metadata": {
    "tags": []
   },
   "outputs": [
    {
     "data": {
      "text/plain": [
       "<tf.Tensor: shape=(2, 3, 3), dtype=float32, numpy=\n",
       "array([[[-3.3025322,  1.1741476,  1.6504161],\n",
       "        [-3.3025322,  1.1741476,  1.6504161],\n",
       "        [-3.3025322,  1.1741476,  1.6504161]],\n",
       "\n",
       "       [[-3.3025322,  1.1741476,  1.6504161],\n",
       "        [-3.3025322,  1.1741476,  1.6504161],\n",
       "        [-3.3025322,  1.1741476,  1.6504161]]], dtype=float32)>"
      ]
     },
     "execution_count": 25,
     "metadata": {},
     "output_type": "execute_result"
    }
   ],
   "source": [
    "y"
   ]
  },
  {
   "cell_type": "code",
   "execution_count": 31,
   "id": "ea060973-5070-40a5-a7d9-d736726121f9",
   "metadata": {
    "tags": []
   },
   "outputs": [
    {
     "name": "stdout",
     "output_type": "stream",
     "text": [
      "weights shape: 1 (5, 3)\n"
     ]
    }
   ],
   "source": [
    "# Note, weights is a list of arrays\n",
    "print(\"weights shape:\", len(dense_layer.get_weights()) ,dense_layer.get_weights()[0].shape )\n"
   ]
  },
  {
   "cell_type": "markdown",
   "id": "fcc45095-da60-4f81-9ad8-130a94436851",
   "metadata": {},
   "source": [
    "# Embedding\n",
    "https://www.tensorflow.org/api_docs/python/tf/keras/layers/Embedding\n"
   ]
  },
  {
   "cell_type": "code",
   "execution_count": 32,
   "id": "26c66e5d-7b48-4227-9c02-83a960a52c79",
   "metadata": {
    "tags": []
   },
   "outputs": [],
   "source": [
    "input_dim = 10 # vocab_size\n",
    "output_dim = 3 # the number of \"features\"\n",
    "\n",
    "embedding_layer = tf.keras.layers.Embedding(input_dim=input_dim, output_dim=output_dim, name='my_embedding_layer')\n"
   ]
  },
  {
   "cell_type": "code",
   "execution_count": 35,
   "id": "3f5b0f67-a375-4244-8edb-9d3208b2aa6a",
   "metadata": {
    "tags": []
   },
   "outputs": [
    {
     "data": {
      "text/plain": [
       "<tf.Tensor: shape=(2, 5, 3), dtype=float32, numpy=\n",
       "array([[[ 0.04082367, -0.01132127, -0.01002828],\n",
       "        [-0.01644867,  0.03668428, -0.00024289],\n",
       "        [-0.02417375, -0.04031194,  0.04733041],\n",
       "        [-0.02158575, -0.03997653,  0.01214267],\n",
       "        [-0.01593864,  0.01695111,  0.03237135]],\n",
       "\n",
       "       [[ 0.04082367, -0.01132127, -0.01002828],\n",
       "        [-0.01644867,  0.03668428, -0.00024289],\n",
       "        [-0.02417375, -0.04031194,  0.04733041],\n",
       "        [-0.02158575, -0.03997653,  0.01214267],\n",
       "        [-0.01593864,  0.01695111,  0.03237135]]], dtype=float32)>"
      ]
     },
     "execution_count": 35,
     "metadata": {},
     "output_type": "execute_result"
    }
   ],
   "source": [
    "input = tf.constant([[1,2,3,4,5], [1,2,3,4,5]])\n",
    "\n",
    "embedding_layer(input)"
   ]
  },
  {
   "cell_type": "code",
   "execution_count": 45,
   "id": "2db563e0-89c9-452f-a2d0-029a9e4368ef",
   "metadata": {
    "tags": []
   },
   "outputs": [],
   "source": [
    "vv = [1,2,3]"
   ]
  },
  {
   "cell_type": "code",
   "execution_count": 47,
   "id": "4b39a127-217f-43e2-960c-e4a3c3bb4eef",
   "metadata": {
    "tags": []
   },
   "outputs": [
    {
     "name": "stdout",
     "output_type": "stream",
     "text": [
      "Help on built-in function extend:\n",
      "\n",
      "extend(iterable, /) method of builtins.list instance\n",
      "    Extend list by appending elements from the iterable.\n",
      "\n"
     ]
    }
   ],
   "source": [
    "help(vv.extend)"
   ]
  },
  {
   "cell_type": "code",
   "execution_count": null,
   "id": "c0cd3f12-6ec7-426b-bdb0-891a8d8de710",
   "metadata": {},
   "outputs": [],
   "source": []
  }
 ],
 "metadata": {
  "kernelspec": {
   "display_name": "Python 3 (ipykernel)",
   "language": "python",
   "name": "python3"
  },
  "language_info": {
   "codemirror_mode": {
    "name": "ipython",
    "version": 3
   },
   "file_extension": ".py",
   "mimetype": "text/x-python",
   "name": "python",
   "nbconvert_exporter": "python",
   "pygments_lexer": "ipython3",
   "version": "3.11.7"
  }
 },
 "nbformat": 4,
 "nbformat_minor": 5
}
